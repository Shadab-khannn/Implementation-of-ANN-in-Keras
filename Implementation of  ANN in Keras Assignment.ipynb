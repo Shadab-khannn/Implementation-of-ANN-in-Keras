{
 "cells": [
  {
   "cell_type": "code",
   "execution_count": null,
   "id": "302c5e83-ab00-48a8-b7a2-a47d58114f64",
   "metadata": {},
   "outputs": [],
   "source": [
    "Q1. Install and load the latest versions of TensorFlow and Keras. Print their versions."
   ]
  },
  {
   "cell_type": "code",
   "execution_count": 1,
   "id": "c24c9991-2489-42db-8c6a-d15b0a4c667b",
   "metadata": {},
   "outputs": [
    {
     "name": "stdout",
     "output_type": "stream",
     "text": [
      "Collecting tensorflow\n",
      "  Downloading tensorflow-2.13.0-cp310-cp310-manylinux_2_17_x86_64.manylinux2014_x86_64.whl (524.1 MB)\n",
      "\u001b[2K     \u001b[90m━━━━━━━━━━━━━━━━━━━━━━━━━━━━━━━━━━━━━━━\u001b[0m \u001b[32m524.1/524.1 MB\u001b[0m \u001b[31m3.1 MB/s\u001b[0m eta \u001b[36m0:00:00\u001b[0m00:01\u001b[0m00:01\u001b[0m\n",
      "\u001b[?25hCollecting grpcio<2.0,>=1.24.3\n",
      "  Downloading grpcio-1.56.0-cp310-cp310-manylinux_2_17_x86_64.manylinux2014_x86_64.whl (5.2 MB)\n",
      "\u001b[2K     \u001b[90m━━━━━━━━━━━━━━━━━━━━━━━━━━━━━━━━━━━━━━━━\u001b[0m \u001b[32m5.2/5.2 MB\u001b[0m \u001b[31m53.6 MB/s\u001b[0m eta \u001b[36m0:00:00\u001b[0mta \u001b[36m0:00:01\u001b[0m\n",
      "\u001b[?25hCollecting gast<=0.4.0,>=0.2.1\n",
      "  Downloading gast-0.4.0-py3-none-any.whl (9.8 kB)\n",
      "Requirement already satisfied: packaging in /opt/conda/lib/python3.10/site-packages (from tensorflow) (22.0)\n",
      "Collecting absl-py>=1.0.0\n",
      "  Downloading absl_py-1.4.0-py3-none-any.whl (126 kB)\n",
      "\u001b[2K     \u001b[90m━━━━━━━━━━━━━━━━━━━━━━━━━━━━━━━━━━━━━━\u001b[0m \u001b[32m126.5/126.5 kB\u001b[0m \u001b[31m21.0 MB/s\u001b[0m eta \u001b[36m0:00:00\u001b[0m\n",
      "\u001b[?25hCollecting google-pasta>=0.1.1\n",
      "  Downloading google_pasta-0.2.0-py3-none-any.whl (57 kB)\n",
      "\u001b[2K     \u001b[90m━━━━━━━━━━━━━━━━━━━━━━━━━━━━━━━━━━━━━━━━\u001b[0m \u001b[32m57.5/57.5 kB\u001b[0m \u001b[31m11.2 MB/s\u001b[0m eta \u001b[36m0:00:00\u001b[0m\n",
      "\u001b[?25hCollecting libclang>=13.0.0\n",
      "  Downloading libclang-16.0.6-py2.py3-none-manylinux2010_x86_64.whl (22.9 MB)\n",
      "\u001b[2K     \u001b[90m━━━━━━━━━━━━━━━━━━━━━━━━━━━━━━━━━━━━━━━━\u001b[0m \u001b[32m22.9/22.9 MB\u001b[0m \u001b[31m58.1 MB/s\u001b[0m eta \u001b[36m0:00:00\u001b[0m00:01\u001b[0m00:01\u001b[0m\n",
      "\u001b[?25hCollecting termcolor>=1.1.0\n",
      "  Downloading termcolor-2.3.0-py3-none-any.whl (6.9 kB)\n",
      "Collecting tensorflow-io-gcs-filesystem>=0.23.1\n",
      "  Downloading tensorflow_io_gcs_filesystem-0.32.0-cp310-cp310-manylinux_2_12_x86_64.manylinux2010_x86_64.whl (2.4 MB)\n",
      "\u001b[2K     \u001b[90m━━━━━━━━━━━━━━━━━━━━━━━━━━━━━━━━━━━━━━━━\u001b[0m \u001b[32m2.4/2.4 MB\u001b[0m \u001b[31m85.1 MB/s\u001b[0m eta \u001b[36m0:00:00\u001b[0m\n",
      "\u001b[?25hRequirement already satisfied: h5py>=2.9.0 in /opt/conda/lib/python3.10/site-packages (from tensorflow) (3.7.0)\n",
      "Collecting keras<2.14,>=2.13.1\n",
      "  Downloading keras-2.13.1-py3-none-any.whl (1.7 MB)\n",
      "\u001b[2K     \u001b[90m━━━━━━━━━━━━━━━━━━━━━━━━━━━━━━━━━━━━━━━━\u001b[0m \u001b[32m1.7/1.7 MB\u001b[0m \u001b[31m74.6 MB/s\u001b[0m eta \u001b[36m0:00:00\u001b[0m\n",
      "\u001b[?25hCollecting wrapt>=1.11.0\n",
      "  Downloading wrapt-1.15.0-cp310-cp310-manylinux_2_5_x86_64.manylinux1_x86_64.manylinux_2_17_x86_64.manylinux2014_x86_64.whl (78 kB)\n",
      "\u001b[2K     \u001b[90m━━━━━━━━━━━━━━━━━━━━━━━━━━━━━━━━━━━━━━━━\u001b[0m \u001b[32m78.4/78.4 kB\u001b[0m \u001b[31m16.0 MB/s\u001b[0m eta \u001b[36m0:00:00\u001b[0m\n",
      "\u001b[?25hRequirement already satisfied: numpy<=1.24.3,>=1.22 in /opt/conda/lib/python3.10/site-packages (from tensorflow) (1.23.5)\n",
      "Requirement already satisfied: typing-extensions<4.6.0,>=3.6.6 in /opt/conda/lib/python3.10/site-packages (from tensorflow) (4.4.0)\n",
      "Collecting opt-einsum>=2.3.2\n",
      "  Downloading opt_einsum-3.3.0-py3-none-any.whl (65 kB)\n",
      "\u001b[2K     \u001b[90m━━━━━━━━━━━━━━━━━━━━━━━━━━━━━━━━━━━━━━━━\u001b[0m \u001b[32m65.5/65.5 kB\u001b[0m \u001b[31m11.9 MB/s\u001b[0m eta \u001b[36m0:00:00\u001b[0m\n",
      "\u001b[?25hCollecting flatbuffers>=23.1.21\n",
      "  Downloading flatbuffers-23.5.26-py2.py3-none-any.whl (26 kB)\n",
      "Requirement already satisfied: setuptools in /opt/conda/lib/python3.10/site-packages (from tensorflow) (65.5.1)\n",
      "Collecting tensorflow-estimator<2.14,>=2.13.0\n",
      "  Downloading tensorflow_estimator-2.13.0-py2.py3-none-any.whl (440 kB)\n",
      "\u001b[2K     \u001b[90m━━━━━━━━━━━━━━━━━━━━━━━━━━━━━━━━━━━━━━\u001b[0m \u001b[32m440.8/440.8 kB\u001b[0m \u001b[31m48.7 MB/s\u001b[0m eta \u001b[36m0:00:00\u001b[0m\n",
      "\u001b[?25hCollecting tensorboard<2.14,>=2.13\n",
      "  Downloading tensorboard-2.13.0-py3-none-any.whl (5.6 MB)\n",
      "\u001b[2K     \u001b[90m━━━━━━━━━━━━━━━━━━━━━━━━━━━━━━━━━━━━━━━━\u001b[0m \u001b[32m5.6/5.6 MB\u001b[0m \u001b[31m84.2 MB/s\u001b[0m eta \u001b[36m0:00:00\u001b[0mta \u001b[36m0:00:01\u001b[0m\n",
      "\u001b[?25hRequirement already satisfied: protobuf!=4.21.0,!=4.21.1,!=4.21.2,!=4.21.3,!=4.21.4,!=4.21.5,<5.0.0dev,>=3.20.3 in /opt/conda/lib/python3.10/site-packages (from tensorflow) (4.21.11)\n",
      "Requirement already satisfied: six>=1.12.0 in /opt/conda/lib/python3.10/site-packages (from tensorflow) (1.16.0)\n",
      "Collecting astunparse>=1.6.0\n",
      "  Downloading astunparse-1.6.3-py2.py3-none-any.whl (12 kB)\n",
      "Requirement already satisfied: wheel<1.0,>=0.23.0 in /opt/conda/lib/python3.10/site-packages (from astunparse>=1.6.0->tensorflow) (0.38.4)\n",
      "Requirement already satisfied: requests<3,>=2.21.0 in /opt/conda/lib/python3.10/site-packages (from tensorboard<2.14,>=2.13->tensorflow) (2.28.1)\n",
      "Collecting google-auth-oauthlib<1.1,>=0.5\n",
      "  Downloading google_auth_oauthlib-1.0.0-py2.py3-none-any.whl (18 kB)\n",
      "Collecting tensorboard-data-server<0.8.0,>=0.7.0\n",
      "  Downloading tensorboard_data_server-0.7.1-py3-none-manylinux2014_x86_64.whl (6.6 MB)\n",
      "\u001b[2K     \u001b[90m━━━━━━━━━━━━━━━━━━━━━━━━━━━━━━━━━━━━━━━━\u001b[0m \u001b[32m6.6/6.6 MB\u001b[0m \u001b[31m87.5 MB/s\u001b[0m eta \u001b[36m0:00:00\u001b[0m:00:01\u001b[0m00:01\u001b[0m\n",
      "\u001b[?25hCollecting google-auth<3,>=1.6.3\n",
      "  Downloading google_auth-2.22.0-py2.py3-none-any.whl (181 kB)\n",
      "\u001b[2K     \u001b[90m━━━━━━━━━━━━━━━━━━━━━━━━━━━━━━━━━━━━━━\u001b[0m \u001b[32m181.8/181.8 kB\u001b[0m \u001b[31m25.8 MB/s\u001b[0m eta \u001b[36m0:00:00\u001b[0m\n",
      "\u001b[?25hCollecting werkzeug>=1.0.1\n",
      "  Downloading Werkzeug-2.3.6-py3-none-any.whl (242 kB)\n",
      "\u001b[2K     \u001b[90m━━━━━━━━━━━━━━━━━━━━━━━━━━━━━━━━━━━━━━\u001b[0m \u001b[32m242.5/242.5 kB\u001b[0m \u001b[31m34.4 MB/s\u001b[0m eta \u001b[36m0:00:00\u001b[0m\n",
      "\u001b[?25hCollecting markdown>=2.6.8\n",
      "  Downloading Markdown-3.4.3-py3-none-any.whl (93 kB)\n",
      "\u001b[2K     \u001b[90m━━━━━━━━━━━━━━━━━━━━━━━━━━━━━━━━━━━━━━━━\u001b[0m \u001b[32m93.9/93.9 kB\u001b[0m \u001b[31m18.8 MB/s\u001b[0m eta \u001b[36m0:00:00\u001b[0m\n",
      "\u001b[?25hCollecting cachetools<6.0,>=2.0.0\n",
      "  Downloading cachetools-5.3.1-py3-none-any.whl (9.3 kB)\n",
      "Collecting rsa<5,>=3.1.4\n",
      "  Downloading rsa-4.9-py3-none-any.whl (34 kB)\n",
      "Requirement already satisfied: urllib3<2.0 in /opt/conda/lib/python3.10/site-packages (from google-auth<3,>=1.6.3->tensorboard<2.14,>=2.13->tensorflow) (1.26.13)\n",
      "Collecting pyasn1-modules>=0.2.1\n",
      "  Downloading pyasn1_modules-0.3.0-py2.py3-none-any.whl (181 kB)\n",
      "\u001b[2K     \u001b[90m━━━━━━━━━━━━━━━━━━━━━━━━━━━━━━━━━━━━━━\u001b[0m \u001b[32m181.3/181.3 kB\u001b[0m \u001b[31m26.4 MB/s\u001b[0m eta \u001b[36m0:00:00\u001b[0m\n",
      "\u001b[?25hCollecting requests-oauthlib>=0.7.0\n",
      "  Downloading requests_oauthlib-1.3.1-py2.py3-none-any.whl (23 kB)\n",
      "Requirement already satisfied: certifi>=2017.4.17 in /opt/conda/lib/python3.10/site-packages (from requests<3,>=2.21.0->tensorboard<2.14,>=2.13->tensorflow) (2022.12.7)\n",
      "Requirement already satisfied: idna<4,>=2.5 in /opt/conda/lib/python3.10/site-packages (from requests<3,>=2.21.0->tensorboard<2.14,>=2.13->tensorflow) (3.4)\n",
      "Requirement already satisfied: charset-normalizer<3,>=2 in /opt/conda/lib/python3.10/site-packages (from requests<3,>=2.21.0->tensorboard<2.14,>=2.13->tensorflow) (2.1.1)\n",
      "Requirement already satisfied: MarkupSafe>=2.1.1 in /opt/conda/lib/python3.10/site-packages (from werkzeug>=1.0.1->tensorboard<2.14,>=2.13->tensorflow) (2.1.1)\n",
      "Collecting pyasn1<0.6.0,>=0.4.6\n",
      "  Downloading pyasn1-0.5.0-py2.py3-none-any.whl (83 kB)\n",
      "\u001b[2K     \u001b[90m━━━━━━━━━━━━━━━━━━━━━━━━━━━━━━━━━━━━━━━━\u001b[0m \u001b[32m83.9/83.9 kB\u001b[0m \u001b[31m16.7 MB/s\u001b[0m eta \u001b[36m0:00:00\u001b[0m\n",
      "\u001b[?25hRequirement already satisfied: oauthlib>=3.0.0 in /opt/conda/lib/python3.10/site-packages (from requests-oauthlib>=0.7.0->google-auth-oauthlib<1.1,>=0.5->tensorboard<2.14,>=2.13->tensorflow) (3.2.2)\n",
      "Installing collected packages: libclang, flatbuffers, wrapt, werkzeug, termcolor, tensorflow-io-gcs-filesystem, tensorflow-estimator, tensorboard-data-server, pyasn1, opt-einsum, markdown, keras, grpcio, google-pasta, gast, cachetools, astunparse, absl-py, rsa, requests-oauthlib, pyasn1-modules, google-auth, google-auth-oauthlib, tensorboard, tensorflow\n",
      "Successfully installed absl-py-1.4.0 astunparse-1.6.3 cachetools-5.3.1 flatbuffers-23.5.26 gast-0.4.0 google-auth-2.22.0 google-auth-oauthlib-1.0.0 google-pasta-0.2.0 grpcio-1.56.0 keras-2.13.1 libclang-16.0.6 markdown-3.4.3 opt-einsum-3.3.0 pyasn1-0.5.0 pyasn1-modules-0.3.0 requests-oauthlib-1.3.1 rsa-4.9 tensorboard-2.13.0 tensorboard-data-server-0.7.1 tensorflow-2.13.0 tensorflow-estimator-2.13.0 tensorflow-io-gcs-filesystem-0.32.0 termcolor-2.3.0 werkzeug-2.3.6 wrapt-1.15.0\n",
      "Requirement already satisfied: keras in /opt/conda/lib/python3.10/site-packages (2.13.1)\n"
     ]
    }
   ],
   "source": [
    "!pip install tensorflow\n",
    "!pip install keras"
   ]
  },
  {
   "cell_type": "code",
   "execution_count": 25,
   "id": "6297ee42-2ba5-4e0a-9cc8-197a21a75230",
   "metadata": {},
   "outputs": [],
   "source": [
    "import tensorflow as tf\n",
    "import keras"
   ]
  },
  {
   "cell_type": "code",
   "execution_count": 26,
   "id": "91f62979-e817-42e7-8877-5106c73d9e7b",
   "metadata": {},
   "outputs": [
    {
     "name": "stdout",
     "output_type": "stream",
     "text": [
      "TensorFlow version: 2.13.0\n",
      "Keras version: 2.13.1\n"
     ]
    }
   ],
   "source": [
    "print(\"TensorFlow version:\", tf.__version__)\n",
    "print(\"Keras version:\", keras.__version__)"
   ]
  },
  {
   "cell_type": "code",
   "execution_count": null,
   "id": "8addda55-e9c3-4546-a6df-72073ddd77f4",
   "metadata": {},
   "outputs": [],
   "source": []
  },
  {
   "cell_type": "code",
   "execution_count": null,
   "id": "8c1635a2-196a-4a55-95df-f85dc3ccbb52",
   "metadata": {},
   "outputs": [],
   "source": [
    "Q2. Load the Wine Quality dataset and explore its dimensions."
   ]
  },
  {
   "cell_type": "code",
   "execution_count": 36,
   "id": "8014effc-a6a7-4814-9ca5-45103ebf0464",
   "metadata": {},
   "outputs": [],
   "source": [
    "import pandas as pd\n",
    "wine = pd.read_csv(\"https://archive.ics.uci.edu/ml/machine-learning-databases/wine-quality/winequality-red.csv\", sep=\";\")"
   ]
  },
  {
   "cell_type": "code",
   "execution_count": 37,
   "id": "83cb25c1-2816-4329-82c8-99af783c550e",
   "metadata": {},
   "outputs": [
    {
     "name": "stdout",
     "output_type": "stream",
     "text": [
      "Wine Quality dataset shape: (1599, 12)\n"
     ]
    }
   ],
   "source": [
    "print(\"Wine Quality dataset shape:\", wine.shape)"
   ]
  },
  {
   "cell_type": "code",
   "execution_count": null,
   "id": "97c5a8e1-cade-4207-bed6-264f14fbd633",
   "metadata": {},
   "outputs": [],
   "source": []
  },
  {
   "cell_type": "code",
   "execution_count": null,
   "id": "be83d64f-0ac4-4ebc-a7f9-4c78fefaede6",
   "metadata": {},
   "outputs": [],
   "source": [
    "Q3. Check for null values, identify categorical variables, and encode them."
   ]
  },
  {
   "cell_type": "code",
   "execution_count": 38,
   "id": "65fc0676-15ae-45f4-bab2-37888b445488",
   "metadata": {},
   "outputs": [
    {
     "name": "stdout",
     "output_type": "stream",
     "text": [
      "Null values in the dataset: 0\n"
     ]
    }
   ],
   "source": [
    "print(\"Null values in the dataset:\", wine.isnull().sum().sum())"
   ]
  },
  {
   "cell_type": "code",
   "execution_count": 33,
   "id": "216cb804-d238-4291-96b0-09a0def74a44",
   "metadata": {},
   "outputs": [],
   "source": [
    "# There are no null values in the dataset\n",
    "# The only categorical variable is quality, which is the target variable\n",
    "# We can encode it using one-hot encoding, where quality = 3, 4, 5, 6, 7, 8 are encoded as \n",
    "#[1, 0, 0, 0, 0, 0], [0, 1, 0, 0, 0, 0], [0, 0, 1, 0, 0, 0], [0, 0, 0, 1, 0, 0], [0, 0, 0, 0, 1, 0], [0, 0, 0, 0, 0, 1] respectively"
   ]
  },
  {
   "cell_type": "code",
   "execution_count": 40,
   "id": "2ca0dda5-6477-4871-8dab-dce07b75ff75",
   "metadata": {},
   "outputs": [],
   "source": [
    "wine[\"quality\"] = wine[\"quality\"].apply(lambda x: 1 if x >= 7 else 0)"
   ]
  },
  {
   "cell_type": "code",
   "execution_count": null,
   "id": "6942a2aa-128e-48aa-b269-d360605a40e5",
   "metadata": {},
   "outputs": [],
   "source": []
  },
  {
   "cell_type": "code",
   "execution_count": null,
   "id": "6a02855c-ca0f-46e3-90fe-023ef9997bf8",
   "metadata": {},
   "outputs": [],
   "source": [
    "Q4. Separate the features and target variables from the dataset."
   ]
  },
  {
   "cell_type": "code",
   "execution_count": 42,
   "id": "d8b8dbda-79ed-425f-a5d8-44535a590e9e",
   "metadata": {},
   "outputs": [],
   "source": [
    "X = wine.drop(\"quality\", axis=1) # Features\n",
    "y = wine[\"quality\"] # Target"
   ]
  },
  {
   "cell_type": "code",
   "execution_count": null,
   "id": "d5a02d82-0589-4d1e-9446-e55fcb2bab89",
   "metadata": {},
   "outputs": [],
   "source": []
  },
  {
   "cell_type": "code",
   "execution_count": null,
   "id": "c5117bee-ac4e-4487-8aa6-900c717d97af",
   "metadata": {},
   "outputs": [],
   "source": [
    "Q5. Perform a train-test split, dividing the data into training, validation, and test datasets."
   ]
  },
  {
   "cell_type": "code",
   "execution_count": 43,
   "id": "6c090564-253f-4899-8eb5-18c94c5b998c",
   "metadata": {},
   "outputs": [],
   "source": [
    "from sklearn.model_selection import train_test_split\n",
    "X_train, X_test, y_train, y_test = train_test_split(X, y, test_size=0.2, random_state=42) # Test set is 20% of the data\n",
    "X_train, X_val, y_train, y_val = train_test_split(X_train, y_train, test_size=0.25, random_state=42) \n",
    "# Validation set is 25% of the training data"
   ]
  },
  {
   "cell_type": "code",
   "execution_count": null,
   "id": "2623712e-44ed-4d51-8da9-28bba839ae4d",
   "metadata": {},
   "outputs": [],
   "source": []
  },
  {
   "cell_type": "code",
   "execution_count": null,
   "id": "8f7cce2c-0653-4b70-85bb-d9ee7e548f1d",
   "metadata": {},
   "outputs": [],
   "source": [
    "Q6. Scale the dataset using an appropriate scaling technique."
   ]
  },
  {
   "cell_type": "code",
   "execution_count": 44,
   "id": "cdbd21bb-a309-4116-af11-3e6f1a0a0a59",
   "metadata": {},
   "outputs": [],
   "source": [
    "from sklearn.preprocessing import StandardScaler\n",
    "scaler = StandardScaler()\n",
    "X_train = scaler.fit_transform(X_train)\n",
    "X_val = scaler.transform(X_val)\n",
    "X_test = scaler.transform(X_test)"
   ]
  },
  {
   "cell_type": "code",
   "execution_count": null,
   "id": "9faa9f9c-5901-4a0c-8975-76365bec29eb",
   "metadata": {},
   "outputs": [],
   "source": []
  },
  {
   "cell_type": "code",
   "execution_count": null,
   "id": "bde69aee-bf6f-4ba6-b554-3da4679f3d66",
   "metadata": {},
   "outputs": [],
   "source": [
    "Q7. Design and implement at least two hidden layers and an output layer for the binary categorical variables."
   ]
  },
  {
   "cell_type": "code",
   "execution_count": 45,
   "id": "8940cbc0-edc8-466b-ac9c-4b9535ee15d6",
   "metadata": {},
   "outputs": [],
   "source": [
    "from keras.models import Sequential\n",
    "from keras.layers import Dense\n",
    "model = Sequential()\n",
    "model.add(Dense(16, activation=\"relu\", input_shape=(11,))) # First hidden layer with 16 neurons and ReLU activation function\n",
    "model.add(Dense(8, activation=\"relu\")) # Second hidden layer with 8 neurons and ReLU activation function\n",
    "model.add(Dense(1, activation=\"sigmoid\")) # Output layer with 1 neuron and sigmoid activation function for binary classification"
   ]
  },
  {
   "cell_type": "code",
   "execution_count": null,
   "id": "69b03b1d-036b-4335-9d92-c8d0dd889f0e",
   "metadata": {},
   "outputs": [],
   "source": []
  },
  {
   "cell_type": "code",
   "execution_count": null,
   "id": "b7d0ea11-c8d3-4127-9683-27a2fd48dc8a",
   "metadata": {},
   "outputs": [],
   "source": [
    "Q9. Print the summary of the model architecture."
   ]
  },
  {
   "cell_type": "code",
   "execution_count": 46,
   "id": "ba17409d-e04b-4b76-bcdf-35d93f80a727",
   "metadata": {},
   "outputs": [
    {
     "name": "stdout",
     "output_type": "stream",
     "text": [
      "Model: \"sequential_1\"\n",
      "_________________________________________________________________\n",
      " Layer (type)                Output Shape              Param #   \n",
      "=================================================================\n",
      " dense_3 (Dense)             (None, 16)                192       \n",
      "                                                                 \n",
      " dense_4 (Dense)             (None, 8)                 136       \n",
      "                                                                 \n",
      " dense_5 (Dense)             (None, 1)                 9         \n",
      "                                                                 \n",
      "=================================================================\n",
      "Total params: 337 (1.32 KB)\n",
      "Trainable params: 337 (1.32 KB)\n",
      "Non-trainable params: 0 (0.00 Byte)\n",
      "_________________________________________________________________\n"
     ]
    }
   ],
   "source": [
    "model.summary()"
   ]
  },
  {
   "cell_type": "code",
   "execution_count": null,
   "id": "665e4af2-0128-4098-b701-9706381520a9",
   "metadata": {},
   "outputs": [],
   "source": []
  },
  {
   "cell_type": "code",
   "execution_count": null,
   "id": "c2acf33d-2066-4e23-b967-03c0ae55c25e",
   "metadata": {},
   "outputs": [],
   "source": [
    "Q10. Set the loss function(‘binary_crossentropy’), optimizer, and include the accuracy metric in the model."
   ]
  },
  {
   "cell_type": "code",
   "execution_count": 47,
   "id": "148c0964-2094-410c-8783-bbd70fb88e81",
   "metadata": {},
   "outputs": [],
   "source": [
    "model.compile(loss=\"binary_crossentropy\", optimizer=\"adam\", metrics=[\"accuracy\"])"
   ]
  },
  {
   "cell_type": "code",
   "execution_count": null,
   "id": "3c823cc4-3a01-400d-8d00-05e18a8fafbd",
   "metadata": {},
   "outputs": [],
   "source": []
  },
  {
   "cell_type": "code",
   "execution_count": null,
   "id": "8badc942-fcb3-410b-a9cd-081d335830fa",
   "metadata": {},
   "outputs": [],
   "source": [
    "Q12. Fit the model to the training data using appropriate batch size and number of epochs."
   ]
  },
  {
   "cell_type": "code",
   "execution_count": 48,
   "id": "bb4055ad-87a8-45be-9419-e8f07f66a946",
   "metadata": {},
   "outputs": [
    {
     "name": "stdout",
     "output_type": "stream",
     "text": [
      "Epoch 1/20\n",
      "30/30 [==============================] - 1s 8ms/step - loss: 0.7615 - accuracy: 0.3191 - val_loss: 0.6956 - val_accuracy: 0.5031\n",
      "Epoch 2/20\n",
      "30/30 [==============================] - 0s 3ms/step - loss: 0.6530 - accuracy: 0.6684 - val_loss: 0.6103 - val_accuracy: 0.7844\n",
      "Epoch 3/20\n",
      "30/30 [==============================] - 0s 3ms/step - loss: 0.5854 - accuracy: 0.8248 - val_loss: 0.5373 - val_accuracy: 0.8687\n",
      "Epoch 4/20\n",
      "30/30 [==============================] - 0s 3ms/step - loss: 0.5208 - accuracy: 0.8582 - val_loss: 0.4630 - val_accuracy: 0.8844\n",
      "Epoch 5/20\n",
      "30/30 [==============================] - 0s 3ms/step - loss: 0.4545 - accuracy: 0.8634 - val_loss: 0.3939 - val_accuracy: 0.8906\n",
      "Epoch 6/20\n",
      "30/30 [==============================] - 0s 3ms/step - loss: 0.3965 - accuracy: 0.8634 - val_loss: 0.3404 - val_accuracy: 0.8906\n",
      "Epoch 7/20\n",
      "30/30 [==============================] - 0s 3ms/step - loss: 0.3537 - accuracy: 0.8770 - val_loss: 0.3034 - val_accuracy: 0.8938\n",
      "Epoch 8/20\n",
      "30/30 [==============================] - 0s 3ms/step - loss: 0.3252 - accuracy: 0.8790 - val_loss: 0.2833 - val_accuracy: 0.8844\n",
      "Epoch 9/20\n",
      "30/30 [==============================] - 0s 3ms/step - loss: 0.3075 - accuracy: 0.8832 - val_loss: 0.2717 - val_accuracy: 0.8813\n",
      "Epoch 10/20\n",
      "30/30 [==============================] - 0s 3ms/step - loss: 0.2973 - accuracy: 0.8884 - val_loss: 0.2653 - val_accuracy: 0.8844\n",
      "Epoch 11/20\n",
      "30/30 [==============================] - 0s 3ms/step - loss: 0.2909 - accuracy: 0.8863 - val_loss: 0.2620 - val_accuracy: 0.8875\n",
      "Epoch 12/20\n",
      "30/30 [==============================] - 0s 3ms/step - loss: 0.2863 - accuracy: 0.8874 - val_loss: 0.2605 - val_accuracy: 0.8906\n",
      "Epoch 13/20\n",
      "30/30 [==============================] - 0s 3ms/step - loss: 0.2833 - accuracy: 0.8853 - val_loss: 0.2596 - val_accuracy: 0.8844\n",
      "Epoch 14/20\n",
      "30/30 [==============================] - 0s 3ms/step - loss: 0.2798 - accuracy: 0.8874 - val_loss: 0.2581 - val_accuracy: 0.8906\n",
      "Epoch 15/20\n",
      "30/30 [==============================] - 0s 3ms/step - loss: 0.2784 - accuracy: 0.8895 - val_loss: 0.2575 - val_accuracy: 0.8844\n",
      "Epoch 16/20\n",
      "30/30 [==============================] - 0s 3ms/step - loss: 0.2756 - accuracy: 0.8863 - val_loss: 0.2575 - val_accuracy: 0.8844\n",
      "Epoch 17/20\n",
      "30/30 [==============================] - 0s 3ms/step - loss: 0.2737 - accuracy: 0.8905 - val_loss: 0.2576 - val_accuracy: 0.8844\n",
      "Epoch 18/20\n",
      "30/30 [==============================] - 0s 3ms/step - loss: 0.2718 - accuracy: 0.8905 - val_loss: 0.2575 - val_accuracy: 0.8813\n",
      "Epoch 19/20\n",
      "30/30 [==============================] - 0s 3ms/step - loss: 0.2699 - accuracy: 0.8905 - val_loss: 0.2573 - val_accuracy: 0.8844\n",
      "Epoch 20/20\n",
      "30/30 [==============================] - 0s 3ms/step - loss: 0.2686 - accuracy: 0.8926 - val_loss: 0.2578 - val_accuracy: 0.8844\n"
     ]
    }
   ],
   "source": [
    "history = model.fit(X_train, y_train, batch_size=32, epochs=20, validation_data=(X_val, y_val))"
   ]
  },
  {
   "cell_type": "code",
   "execution_count": null,
   "id": "2a02b845-5281-4666-89d5-2040e691a350",
   "metadata": {},
   "outputs": [],
   "source": []
  },
  {
   "cell_type": "code",
   "execution_count": null,
   "id": "e9cb86c9-f55f-4be3-95ff-704d6b057db4",
   "metadata": {},
   "outputs": [],
   "source": [
    "Q13. Obtain the model's parameters (weights and biases)."
   ]
  },
  {
   "cell_type": "code",
   "execution_count": 49,
   "id": "ac2899b1-5a81-4aa8-a624-0264991ae0c7",
   "metadata": {},
   "outputs": [],
   "source": [
    "weights = model.get_weights()"
   ]
  },
  {
   "cell_type": "code",
   "execution_count": 50,
   "id": "66202c05-ef1a-40ae-8aa2-c36a02cf5f40",
   "metadata": {},
   "outputs": [
    {
     "name": "stdout",
     "output_type": "stream",
     "text": [
      "Weights: [array([[-0.26886111, -0.03553678, -0.47862336, -0.18327089, -0.00186051,\n",
      "         0.5418165 ,  0.4835588 , -0.14981596,  0.14466414,  0.33026388,\n",
      "         0.13954452, -0.15986608,  0.35199365, -0.02367416, -0.12791525,\n",
      "         0.17683119],\n",
      "       [ 0.2254182 , -0.27228433,  0.55559856,  0.04321806,  0.18729657,\n",
      "        -0.10103875,  0.08857092,  0.5416946 , -0.47202206, -0.378358  ,\n",
      "         0.50118273, -0.12502442, -0.04004538,  0.04003499, -0.17577542,\n",
      "        -0.15051107],\n",
      "       [ 0.30083004,  0.30331644,  0.2941023 ,  0.03186452,  0.30429438,\n",
      "         0.19201297,  0.27977067,  0.36568716, -0.08375937,  0.08386137,\n",
      "        -0.56588113,  0.29693234,  0.02293366,  0.24951571,  0.38987204,\n",
      "        -0.5964634 ],\n",
      "       [ 0.11798709, -0.5021656 , -0.3432067 ,  0.32429734, -0.42428166,\n",
      "         0.37102032,  0.2908727 ,  0.13188672, -0.27073017, -0.46070272,\n",
      "        -0.23794644,  0.22924134, -0.2945526 , -0.16310923, -0.24177171,\n",
      "        -0.23330985],\n",
      "       [ 0.08449537, -0.20671645, -0.09471679, -0.08448105, -0.07278576,\n",
      "        -0.47103882, -0.37311572,  0.26245892, -0.40877378, -0.01694599,\n",
      "         0.11376718, -0.07760049,  0.11577968, -0.46172994, -0.08626975,\n",
      "        -0.37614176],\n",
      "       [-0.14802416, -0.36575553,  0.4662107 , -0.12670293,  0.37158665,\n",
      "         0.05409126, -0.2759535 , -0.36402413, -0.21873656, -0.26406875,\n",
      "        -0.17626865,  0.3693752 , -0.00895226, -0.33050045, -0.40988126,\n",
      "         0.12261535],\n",
      "       [-0.02666104,  0.1699963 ,  0.2894562 ,  0.3074455 ,  0.43517485,\n",
      "        -0.3760965 ,  0.27177462,  0.05445426, -0.13908093, -0.29926172,\n",
      "        -0.4430222 , -0.19960026,  0.4125212 ,  0.04919966,  0.31937653,\n",
      "         0.26959577],\n",
      "       [-0.11977331, -0.31564876,  0.10929915, -0.44724283,  0.15958768,\n",
      "        -0.4484863 , -0.2999375 ,  0.12810507, -0.20471247,  0.07992265,\n",
      "         0.19162752,  0.38086054,  0.07695645, -0.18843421, -0.12992382,\n",
      "         0.5141672 ],\n",
      "       [ 0.46451104, -0.07239452, -0.2550469 , -0.33623052,  0.04820849,\n",
      "         0.04926059,  0.03491931, -0.32760683,  0.06735726,  0.0852058 ,\n",
      "        -0.12759005, -0.04058794,  0.35747626,  0.15790386, -0.21596119,\n",
      "         0.02585233],\n",
      "       [ 0.13096666, -0.13255115, -0.41222432, -0.11399877,  0.35067317,\n",
      "         0.44474113,  0.266834  , -0.32599035, -0.02762234, -0.69476706,\n",
      "        -0.04171864, -0.66469115, -0.32026574, -0.14693184,  0.40242395,\n",
      "         0.3476726 ],\n",
      "       [-0.7520788 , -0.54669654,  0.22166474, -0.05696572, -0.37570772,\n",
      "         0.31640396,  0.44884545, -0.52317756,  0.09769595,  0.26412448,\n",
      "         0.24644725,  0.09932996, -0.34781048, -0.2957564 ,  0.547376  ,\n",
      "        -0.23970504]], dtype=float32), array([ 0.3548959 ,  0.3373148 ,  0.23914172,  0.12218241,  0.18332626,\n",
      "       -0.00248084, -0.04834042,  0.1589714 , -0.10964759,  0.245216  ,\n",
      "        0.24913754,  0.2324007 , -0.07470012, -0.0536284 , -0.08992169,\n",
      "        0.23639534], dtype=float32), array([[-0.3305467 ,  0.552677  ,  0.72066414,  0.26523674, -0.4291827 ,\n",
      "         0.0529674 ,  0.11446078,  0.7935423 ],\n",
      "       [-0.515384  ,  0.55288386,  0.545504  ,  0.3602601 ,  0.33779988,\n",
      "         0.04582525, -0.27011937,  0.36248177],\n",
      "       [-0.3139732 ,  0.28865847,  0.07446709, -0.14287356, -0.3539709 ,\n",
      "         0.39162004, -0.27955472, -0.01621593],\n",
      "       [-0.40671214, -0.3447521 ,  0.40496695, -0.37383983, -0.44910246,\n",
      "        -0.24740285, -0.15466638,  0.16971993],\n",
      "       [ 0.18568031,  0.14392135,  0.32501256,  0.20553482, -0.00557193,\n",
      "        -0.09965551, -0.00750469,  0.308876  ],\n",
      "       [ 0.0119599 , -0.09839711, -0.19668068,  0.40257534,  0.4284002 ,\n",
      "        -0.02098179, -0.40707493, -0.31358898],\n",
      "       [-0.5064321 ,  0.28296953, -0.4261838 ,  0.12271668,  0.32808346,\n",
      "         0.385385  ,  0.45056996, -0.3356092 ],\n",
      "       [-0.24707213,  0.22873308,  0.3621646 , -0.22389711, -0.24587877,\n",
      "         0.21634784,  0.31760088,  0.18480562],\n",
      "       [ 0.34499604, -0.38857928, -0.16886102,  0.00492401,  0.11845708,\n",
      "        -0.09218308,  0.29242072, -0.32548887],\n",
      "       [-0.21295382,  0.25148544,  0.32473502, -0.19927073,  0.05319158,\n",
      "         0.3319628 , -0.00226219,  0.24992652],\n",
      "       [-0.2545179 ,  0.06045583,  0.6209417 ,  0.32385218,  0.3159785 ,\n",
      "         0.5930289 ,  0.14229861, -0.13462916],\n",
      "       [ 0.36713156, -0.294869  ,  0.07564221,  0.2569899 ,  0.27388188,\n",
      "         0.4984569 , -0.3246911 ,  0.21069731],\n",
      "       [-0.1534569 ,  0.40082383,  0.0916269 ,  0.09607877,  0.31489882,\n",
      "        -0.1863516 ,  0.073947  ,  0.4953455 ],\n",
      "       [-0.41543344,  0.09595042, -0.2600639 , -0.61071116,  0.00685829,\n",
      "         0.24715486, -0.33631352, -0.17611763],\n",
      "       [ 0.04575087, -0.20569809,  0.04726578,  0.43088832,  0.10020427,\n",
      "        -0.5132479 ,  0.0229896 ,  0.17881057],\n",
      "       [ 0.02967133,  0.66186225,  0.59530437, -0.4387371 ,  0.20919546,\n",
      "         0.635696  , -0.32780007, -0.15395539]], dtype=float32), array([-0.04568575,  0.3609151 ,  0.23741545, -0.07233736, -0.0920371 ,\n",
      "        0.215789  , -0.08029344,  0.37913632], dtype=float32), array([[ 0.6771384 ],\n",
      "       [-0.3034996 ],\n",
      "       [-0.5163015 ],\n",
      "       [ 0.22547759],\n",
      "       [ 0.44303483],\n",
      "       [-0.517562  ],\n",
      "       [ 0.6868634 ],\n",
      "       [-0.55770016]], dtype=float32), array([-0.16011313], dtype=float32)]\n"
     ]
    }
   ],
   "source": [
    "print(\"Weights:\", weights)"
   ]
  },
  {
   "cell_type": "code",
   "execution_count": null,
   "id": "9058e027-2e76-4875-bf98-df04d5027291",
   "metadata": {},
   "outputs": [],
   "source": []
  },
  {
   "cell_type": "code",
   "execution_count": null,
   "id": "a7cdb485-d4a0-4964-bfc4-ee8f5111ff28",
   "metadata": {},
   "outputs": [],
   "source": [
    "Q14. Store the model's training history as a Pandas DataFrame."
   ]
  },
  {
   "cell_type": "code",
   "execution_count": 51,
   "id": "5eb4c355-9e1c-4329-8509-b7d0dfed2ddd",
   "metadata": {},
   "outputs": [],
   "source": [
    "history_df = pd.DataFrame(history.history)"
   ]
  },
  {
   "cell_type": "code",
   "execution_count": 52,
   "id": "664c4f7a-4187-4787-914e-17388490a7cb",
   "metadata": {},
   "outputs": [
    {
     "name": "stdout",
     "output_type": "stream",
     "text": [
      "Training history:         loss  accuracy  val_loss  val_accuracy\n",
      "0   0.761509  0.319082  0.695629      0.503125\n",
      "1   0.653025  0.668405  0.610346      0.784375\n",
      "2   0.585419  0.824818  0.537282      0.868750\n",
      "3   0.520817  0.858186  0.463003      0.884375\n",
      "4   0.454471  0.863399  0.393913      0.890625\n",
      "5   0.396477  0.863399  0.340427      0.890625\n",
      "6   0.353662  0.876955  0.303424      0.893750\n",
      "7   0.325187  0.879041  0.283329      0.884375\n",
      "8   0.307506  0.883212  0.271674      0.881250\n",
      "9   0.297333  0.888425  0.265286      0.884375\n",
      "10  0.290903  0.886340  0.262031      0.887500\n",
      "11  0.286251  0.887383  0.260504      0.890625\n",
      "12  0.283347  0.885297  0.259619      0.884375\n",
      "13  0.279808  0.887383  0.258135      0.890625\n",
      "14  0.278383  0.889468  0.257506      0.884375\n",
      "15  0.275570  0.886340  0.257494      0.884375\n",
      "16  0.273735  0.890511  0.257630      0.884375\n",
      "17  0.271848  0.890511  0.257543      0.881250\n",
      "18  0.269879  0.890511  0.257303      0.884375\n",
      "19  0.268605  0.892596  0.257792      0.884375\n"
     ]
    }
   ],
   "source": [
    "print(\"Training history:\", history_df)"
   ]
  },
  {
   "cell_type": "code",
   "execution_count": null,
   "id": "afb327ef-8e96-449e-9ff2-2c46eeb60508",
   "metadata": {},
   "outputs": [],
   "source": []
  },
  {
   "cell_type": "code",
   "execution_count": null,
   "id": "ebdf0bb4-528c-486f-8fbd-1a83d5219b30",
   "metadata": {},
   "outputs": [],
   "source": [
    "Q15. Plot the training history (e.g., accuracy and loss) using suitable visualization techniques."
   ]
  },
  {
   "cell_type": "code",
   "execution_count": 53,
   "id": "b9956be5-7400-402d-b683-b37b79dd7087",
   "metadata": {},
   "outputs": [
    {
     "data": {
      "image/png": "[encoded data removed]",
      "text/plain": [
       "<Figure size 640x480 with 1 Axes>"
      ]
     },
     "metadata": {},
     "output_type": "display_data"
    }
   ],
   "source": [
    "import matplotlib.pyplot as plt\n",
    "plt.plot(history_df[\"accuracy\"], label=\"Training accuracy\")\n",
    "plt.plot(history_df[\"val_accuracy\"], label=\"Validation accuracy\")\n",
    "plt.title(\"Accuracy vs Epochs\")\n",
    "plt.xlabel(\"Epochs\")\n",
    "plt.ylabel(\"Accuracy\")\n",
    "plt.legend()\n",
    "plt.show()"
   ]
  },
  {
   "cell_type": "code",
   "execution_count": 54,
   "id": "8e931b4f-f7b8-490b-9c66-2f9f6d4835e1",
   "metadata": {},
   "outputs": [
    {
     "data": {
      "image/png": "[encoded data removed]",
      "text/plain": [
       "<Figure size 640x480 with 1 Axes>"
      ]
     },
     "metadata": {},
     "output_type": "display_data"
    }
   ],
   "source": [
    "plt.plot(history_df[\"loss\"], label=\"Training loss\")\n",
    "plt.plot(history_df[\"val_loss\"], label=\"Validation loss\")\n",
    "plt.title(\"Loss vs Epochs\")\n",
    "plt.xlabel(\"Epochs\")\n",
    "plt.ylabel(\"Loss\")\n",
    "plt.legend()\n",
    "plt.show()"
   ]
  },
  {
   "cell_type": "code",
   "execution_count": null,
   "id": "a9697679-e82e-4056-8383-997d389f093a",
   "metadata": {},
   "outputs": [],
   "source": []
  },
  {
   "cell_type": "code",
   "execution_count": null,
   "id": "f91969ce-5a47-4b16-ba79-dadac02c9742",
   "metadata": {},
   "outputs": [],
   "source": [
    "Q16. Evaluate the model's performance using the test dataset and report relevant metrics."
   ]
  },
  {
   "cell_type": "code",
   "execution_count": 55,
   "id": "ef3840cf-2959-40d0-a3ac-295ac8f3a737",
   "metadata": {},
   "outputs": [
    {
     "name": "stdout",
     "output_type": "stream",
     "text": [
      "10/10 [==============================] - 0s 1ms/step - loss: 0.2719 - accuracy: 0.8656\n"
     ]
    }
   ],
   "source": [
    "test_loss, test_acc = model.evaluate(X_test, y_test)"
   ]
  },
  {
   "cell_type": "code",
   "execution_count": 56,
   "id": "adbb0da4-9a8a-434f-ab06-d9b2d7edc2cd",
   "metadata": {},
   "outputs": [
    {
     "name": "stdout",
     "output_type": "stream",
     "text": [
      "Test loss: 0.27190932631492615\n",
      "Test accuracy: 0.8656250238418579\n"
     ]
    }
   ],
   "source": [
    "print(\"Test loss:\", test_loss)\n",
    "print(\"Test accuracy:\", test_acc)"
   ]
  }
 ],
 "metadata": {
  "kernelspec": {
   "display_name": "Python 3 (ipykernel)",
   "language": "python",
   "name": "python3"
  },
  "language_info": {
   "codemirror_mode": {
    "name": "ipython",
    "version": 3
   },
   "file_extension": ".py",
   "mimetype": "text/x-python",
   "name": "python",
   "nbconvert_exporter": "python",
   "pygments_lexer": "ipython3",
   "version": "3.10.8"
  }
 },
 "nbformat": 4,
 "nbformat_minor": 5
}
